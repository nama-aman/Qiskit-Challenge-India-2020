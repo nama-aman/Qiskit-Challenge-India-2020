{
 "cells": [
  {
   "cell_type": "markdown",
   "metadata": {},
   "source": [
    "<img src=\"https://s3-ap-southeast-1.amazonaws.com/he-public-data/wordmark_black65ee464.png\" width=\"700\">"
   ]
  },
  {
   "cell_type": "markdown",
   "metadata": {},
   "source": [
    "# Day 3 - Question 1"
   ]
  },
  {
   "cell_type": "markdown",
   "metadata": {},
   "source": [
    "**Welcome to Day 3 Question 1 of the Quantum Challenge India!**\n",
    "\n",
    "**Today's Reading Assignment:**\n",
    "\n",
    "- [Qiskit Textbook Chapter 1.2 - The Atoms of Computation](https://qiskit.org/textbook/ch-states/atoms-computation.html)\n",
    "- [Qiskit Textbook Chapter 2.2 - Multi Qubits and Entangled States](https://qiskit.org/textbook/ch-gates/multiple-qubits-entangled-states.html)\n",
    "\n",
    "**Additional Resources:**\n",
    "\n",
    "- [Qiskit Youtube - One Minute Qiskit](https://www.youtube.com/playlist?list=PLOFEBzvs-VvpOCmJ9BonUhf7NYB4d1p0e)\n",
    "- [Qiskit Youtube - Coding With Qiskit (Ep-5)](https://www.youtube.com/playlist?list=PLOFEBzvs-Vvp2xg9-POLJhQwtVktlYGbY)\n",
    "- [Qiskit Documentation - Terra](https://qiskit.org/documentation/apidoc/terra.html)\n",
    "- [Qiskit Tutorials](https://qiskit.org/documentation/tutorials/circuits/index.html)\n",
    "\n",
    "In [Chapter 1, Section 1.4](https://qiskit.org/textbook/ch-states/single-qubit-gates.html), we have learnt how to measure in the X and Z basis. Similarly, it is possible to measure about any such axis or basis. The Y basis is given by $\\{|\\circlearrowleft\\rangle, |\\circlearrowright\\rangle\\}$.  Where the states  $|\\circlearrowleft\\rangle$ and $|\\circlearrowright\\rangle\\$ are:\n",
    "\n",
    "$$|\\circlearrowleft\\rangle = \\frac{1}{\\sqrt{2}}(|0\\rangle+i|1\\rangle)$$\n",
    "\n",
    "$$|\\circlearrowright\\rangle = \\frac{1}{\\sqrt{2}}(|0\\rangle-i|1\\rangle)$$\n",
    "\n",
    "\n",
    "## Question: Initialize the qubit in the state $|\\circlearrowright\\rangle$ and measure it in the Y basis"
   ]
  },
  {
   "cell_type": "code",
   "execution_count": 1,
   "metadata": {},
   "outputs": [],
   "source": [
    "%matplotlib inline\n",
    "\n",
    "# defining a magic function for creating the submission file.\n",
    "from IPython.core.magic import register_cell_magic\n",
    "@register_cell_magic\n",
    "def write_and_run(line, cell):\n",
    "    argz = line.split()\n",
    "    file = argz[-1]\n",
    "    mode = 'w'\n",
    "    with open(file, mode) as f:\n",
    "        f.write(cell)\n",
    "    get_ipython().run_cell(cell)\n",
    "    \n",
    "# Importing Qiskit visualization libraries \n",
    "from qiskit.tools.jupyter import *\n",
    "from qiskit.visualization import *"
   ]
  },
  {
   "cell_type": "markdown",
   "metadata": {},
   "source": [
    "Now that we have imported what we require lets build our circuit in the `build_state()` function where we have already initialized a `QuantumCircuit` for one qubit. Your task is to add necessary gates as specified in the question and return the quantum circuit. In the case that you require classes that haven't already been imported include them in the space given below for importing libraries.\n",
    "\n",
    "**Note:** Do not change the name of the function `build_state()` and do not apply measurements inside it. "
   ]
  },
  {
   "cell_type": "code",
   "execution_count": 40,
   "metadata": {},
   "outputs": [],
   "source": [
    "%%write_and_run answer_day3_question1.py\n",
    "\n",
    "### WRITE YOUR CODE BETWEEN THESE LINES - START\n",
    "    \n",
    "# import libraries that are used in the function below.\n",
    "from qiskit import QuantumCircuit\n",
    "import numpy as np\n",
    "    \n",
    "### WRITE YOUR CODE BETWEEN THESE LINES - END\n",
    "\n",
    "def build_state():\n",
    "    \n",
    "    # create a quantum circuit on one qubit\n",
    "    circuit = QuantumCircuit(1)\n",
    "    \n",
    "    ### WRITE YOUR CODE BETWEEN THESE LINES - START\n",
    "    \n",
    "    state=[complex(1,0)/np.sqrt(2),complex(0,-1)/np.sqrt(2)]\n",
    "    circuit.initialize(state,0)\n",
    "    circuit.sdg(0)\n",
    "    circuit.h(0)\n",
    "    \n",
    "    ### WRITE YOUR CODE BETWEEN THESE LINES - END\n",
    "    return circuit"
   ]
  },
  {
   "cell_type": "markdown",
   "metadata": {},
   "source": [
    "**Circuit Diagram**"
   ]
  },
  {
   "cell_type": "code",
   "execution_count": 41,
   "metadata": {},
   "outputs": [
    {
     "data": {
      "text/html": [
       "<pre style=\"word-wrap: normal;white-space: pre;background: #fff0;line-height: 1.1;font-family: &quot;Courier New&quot;,Courier,monospace\">        ┌───────────────────────────────┐┌─────┐┌───┐ ░ ┌─┐\n",
       "   q_0: ┤ initialize(0.70711,-0.70711j) ├┤ SDG ├┤ H ├─░─┤M├\n",
       "        └───────────────────────────────┘└─────┘└───┘ ░ └╥┘\n",
       "meas: 1/═════════════════════════════════════════════════╩═\n",
       "                                                         0 </pre>"
      ],
      "text/plain": [
       "        ┌───────────────────────────────┐┌─────┐┌───┐ ░ ┌─┐\n",
       "   q_0: ┤ initialize(0.70711,-0.70711j) ├┤ SDG ├┤ H ├─░─┤M├\n",
       "        └───────────────────────────────┘└─────┘└───┘ ░ └╥┘\n",
       "meas: 1/═════════════════════════════════════════════════╩═\n",
       "                                                         0 "
      ]
     },
     "execution_count": 41,
     "metadata": {},
     "output_type": "execute_result"
    }
   ],
   "source": [
    "my_circuit = build_state()\n",
    "my_circuit.measure_all()\n",
    "my_circuit.draw()"
   ]
  },
  {
   "cell_type": "markdown",
   "metadata": {},
   "source": [
    "**Measuring and gettting the counts**"
   ]
  },
  {
   "cell_type": "markdown",
   "metadata": {},
   "source": [
    "Once we have built our circuit lets use the `qasm_simulator` from Aer to get the counts after measurement in this case. "
   ]
  },
  {
   "cell_type": "code",
   "execution_count": 42,
   "metadata": {
    "scrolled": true
   },
   "outputs": [
    {
     "data": {
      "image/png": "[encoded data removed]",
      "text/plain": [
       "<Figure size 504x360 with 1 Axes>"
      ]
     },
     "execution_count": 42,
     "metadata": {},
     "output_type": "execute_result"
    }
   ],
   "source": [
    "# importing the simulator\n",
    "from qiskit import execute, Aer\n",
    "\n",
    "backend = Aer.get_backend(\"qasm_simulator\")\n",
    "job = execute(my_circuit,backend=backend, shots =1000)\n",
    "counts = job.result().get_counts()\n",
    "plot_histogram(counts)\n"
   ]
  },
  {
   "cell_type": "markdown",
   "metadata": {},
   "source": [
    "### Submitting the Answer\n",
    "\n",
    "Once the solution is complete make sure you: \n",
    "\n",
    "* Step 1: **Run the notebook** to generate your submission file named **answer_day3_question1.py** which is a **python file (.py)**. \n",
    "* Step 2: **Upload answer_day3_question1.py** on the HackerEarth platform to get the solution graded and submitted. "
   ]
  }
 ],
 "metadata": {
  "kernelspec": {
   "display_name": "Python 3",
   "language": "python",
   "name": "python3"
  },
  "language_info": {
   "codemirror_mode": {
    "name": "ipython",
    "version": 3
   },
   "file_extension": ".py",
   "mimetype": "text/x-python",
   "name": "python",
   "nbconvert_exporter": "python",
   "pygments_lexer": "ipython3",
   "version": "3.7.7"
  }
 },
 "nbformat": 4,
 "nbformat_minor": 4
}
